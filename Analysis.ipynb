{
 "cells": [
  {
   "cell_type": "code",
   "execution_count": 178,
   "id": "316bed7e",
   "metadata": {},
   "outputs": [
    {
     "name": "stdout",
     "output_type": "stream",
     "text": [
      "Σας ευχαριστούμε που κατεβάσατε αυτό το ηλεκτρονικό βιβλίο. Μπορείτε να το μοιραστείτε με τους φίλους σας. Αυτό το βιβλίο μπορεί να αναπαραχθεί, αντιγραφεί και διανεμηθεί για μη εμπορικούς σκοπούς, υπ \n",
      "\n",
      "σας ευχαριστούμε που κατεβάσατε αυτό το ηλεκτρονικό βιβλίο μπορείτε να το μοιραστείτε με τους φίλους σας αυτό το βιβλίο μπορεί να αναπαραχθεί αντιγραφεί και διανεμηθεί για μη εμπορικούς σκοπούς υπό το\n",
      "31381\n"
     ]
    },
    {
     "data": {
      "text/plain": [
       "'σας'"
      ]
     },
     "execution_count": 178,
     "metadata": {},
     "output_type": "execute_result"
    }
   ],
   "source": [
    "# 1\n",
    "# Split the main text\n",
    "\n",
    "import numpy as np\n",
    "import re\n",
    "init_text = \"\"\n",
    "with open('C:/Users/Ευάγγελος Καρδάτος/Desktop/Äá £ƒ£óªñ½G¬ - îáµÖP èt¿P.pdf.v2.txt', encoding='utf8') as f:\n",
    "    init_text = f.read()\n",
    "f.close()\n",
    "\n",
    "text = re.sub(r'[^\\w\\s]', ' ', init_text) #replace punctuation\n",
    "text  = re.sub(r\"\\s+\", \" \", text).strip() #removes or truncates the given characters from the beginning and the end of the original string.\n",
    "text = text.lower()\n",
    "\n",
    "print(init_text[0:200],\"\\n\")\n",
    "print(text[0:200])\n",
    "\n",
    "words = text.split(\" \")\n",
    "print(len(words))\n",
    "words[0]"
   ]
  },
  {
   "cell_type": "code",
   "execution_count": 179,
   "id": "85474f37",
   "metadata": {},
   "outputs": [
    {
     "name": "stdout",
     "output_type": "stream",
     "text": [
      "number of files\t 32\n",
      "C:/Users/Ευάγγελος Καρδάτος/Desktop/elephant/e_1.0.txt\n",
      "C:/Users/Ευάγγελος Καρδάτος/Desktop/elephant/e_2.0.txt\n",
      "C:/Users/Ευάγγελος Καρδάτος/Desktop/elephant/e_3.0.txt\n",
      "C:/Users/Ευάγγελος Καρδάτος/Desktop/elephant/e_4.0.txt\n",
      "C:/Users/Ευάγγελος Καρδάτος/Desktop/elephant/e_5.0.txt\n",
      "C:/Users/Ευάγγελος Καρδάτος/Desktop/elephant/e_6.0.txt\n",
      "C:/Users/Ευάγγελος Καρδάτος/Desktop/elephant/e_7.0.txt\n",
      "C:/Users/Ευάγγελος Καρδάτος/Desktop/elephant/e_8.0.txt\n",
      "C:/Users/Ευάγγελος Καρδάτος/Desktop/elephant/e_9.0.txt\n",
      "C:/Users/Ευάγγελος Καρδάτος/Desktop/elephant/e_10.0.txt\n",
      "C:/Users/Ευάγγελος Καρδάτος/Desktop/elephant/e_11.0.txt\n",
      "C:/Users/Ευάγγελος Καρδάτος/Desktop/elephant/e_12.0.txt\n",
      "C:/Users/Ευάγγελος Καρδάτος/Desktop/elephant/e_13.0.txt\n",
      "C:/Users/Ευάγγελος Καρδάτος/Desktop/elephant/e_14.0.txt\n",
      "C:/Users/Ευάγγελος Καρδάτος/Desktop/elephant/e_15.0.txt\n",
      "C:/Users/Ευάγγελος Καρδάτος/Desktop/elephant/e_16.0.txt\n",
      "C:/Users/Ευάγγελος Καρδάτος/Desktop/elephant/e_17.0.txt\n",
      "C:/Users/Ευάγγελος Καρδάτος/Desktop/elephant/e_18.0.txt\n",
      "C:/Users/Ευάγγελος Καρδάτος/Desktop/elephant/e_19.0.txt\n",
      "C:/Users/Ευάγγελος Καρδάτος/Desktop/elephant/e_20.0.txt\n",
      "C:/Users/Ευάγγελος Καρδάτος/Desktop/elephant/e_21.0.txt\n",
      "C:/Users/Ευάγγελος Καρδάτος/Desktop/elephant/e_22.0.txt\n",
      "C:/Users/Ευάγγελος Καρδάτος/Desktop/elephant/e_23.0.txt\n",
      "C:/Users/Ευάγγελος Καρδάτος/Desktop/elephant/e_24.0.txt\n",
      "C:/Users/Ευάγγελος Καρδάτος/Desktop/elephant/e_25.0.txt\n",
      "C:/Users/Ευάγγελος Καρδάτος/Desktop/elephant/e_26.0.txt\n",
      "C:/Users/Ευάγγελος Καρδάτος/Desktop/elephant/e_27.0.txt\n",
      "C:/Users/Ευάγγελος Καρδάτος/Desktop/elephant/e_28.0.txt\n",
      "C:/Users/Ευάγγελος Καρδάτος/Desktop/elephant/e_29.0.txt\n",
      "C:/Users/Ευάγγελος Καρδάτος/Desktop/elephant/e_30.0.txt\n",
      "C:/Users/Ευάγγελος Καρδάτος/Desktop/elephant/e_31.0.txt\n",
      "C:/Users/Ευάγγελος Καρδάτος/Desktop/elephant/e_32.0.txt\n"
     ]
    }
   ],
   "source": [
    "# 1\n",
    "# Split the main text and create 32 files\n",
    "\n",
    "limit = 1000\n",
    "total_files = round(len(words)/limit)\n",
    "\n",
    "if total_files*limit<len(words):\n",
    "    total_files =  total_files + 1\n",
    "print(\"number of files\\t\", total_files)\n",
    "counter = -1\n",
    "range1 = np.linspace(1, total_files, total_files)\n",
    "range1\n",
    "for i in range1:\n",
    "    temp = words[counter+1:counter+1+limit]\n",
    "    counter = counter+limit+1\n",
    "    filename = \"C:/Users/Ευάγγελος Καρδάτος/Desktop/elephant/e_\"+str(i)+\".txt\"\n",
    "\n",
    "    print(filename)\n",
    "    output_file = open(filename, 'w', encoding =\"UTF8\")\n",
    "    for word in temp:\n",
    "        output_file.write(word + \" \")\n",
    "    output_file.close()"
   ]
  },
  {
   "cell_type": "code",
   "execution_count": 180,
   "id": "797c2c98",
   "metadata": {},
   "outputs": [
    {
     "name": "stdout",
     "output_type": "stream",
     "text": [
      "shape:\t (32, 12)\n"
     ]
    },
    {
     "data": {
      "text/html": [
       "<div>\n",
       "<style scoped>\n",
       "    .dataframe tbody tr th:only-of-type {\n",
       "        vertical-align: middle;\n",
       "    }\n",
       "\n",
       "    .dataframe tbody tr th {\n",
       "        vertical-align: top;\n",
       "    }\n",
       "\n",
       "    .dataframe thead th {\n",
       "        text-align: right;\n",
       "    }\n",
       "</style>\n",
       "<table border=\"1\" class=\"dataframe\">\n",
       "  <thead>\n",
       "    <tr style=\"text-align: right;\">\n",
       "      <th></th>\n",
       "      <th></th>\n",
       "      <th>Text</th>\n",
       "      <th>Types</th>\n",
       "      <th>Tokens</th>\n",
       "      <th>Frequencies</th>\n",
       "      <th>TTR</th>\n",
       "      <th>h-Point</th>\n",
       "      <th>Entropy</th>\n",
       "      <th>Average Tokens Length</th>\n",
       "      <th>R1</th>\n",
       "      <th>Λ (Lambda)</th>\n",
       "      <th>Unnamed: 11</th>\n",
       "    </tr>\n",
       "  </thead>\n",
       "  <tbody>\n",
       "    <tr>\n",
       "      <th>0</th>\n",
       "      <td>e_1.0</td>\n",
       "      <td>e_1.0</td>\n",
       "      <td>543</td>\n",
       "      <td>1000</td>\n",
       "      <td>[...]</td>\n",
       "      <td>0.543</td>\n",
       "      <td>12.000000</td>\n",
       "      <td>8.244432</td>\n",
       "      <td>5.238</td>\n",
       "      <td>0.834000</td>\n",
       "      <td>1.679643</td>\n",
       "      <td>NaN</td>\n",
       "    </tr>\n",
       "    <tr>\n",
       "      <th>1</th>\n",
       "      <td>e_2.0</td>\n",
       "      <td>e_2.0</td>\n",
       "      <td>507</td>\n",
       "      <td>1000</td>\n",
       "      <td>[...]</td>\n",
       "      <td>0.507</td>\n",
       "      <td>12.500000</td>\n",
       "      <td>8.126562</td>\n",
       "      <td>5.089</td>\n",
       "      <td>0.832125</td>\n",
       "      <td>1.565196</td>\n",
       "      <td>NaN</td>\n",
       "    </tr>\n",
       "    <tr>\n",
       "      <th>2</th>\n",
       "      <td>e_3.0</td>\n",
       "      <td>e_3.0</td>\n",
       "      <td>505</td>\n",
       "      <td>1000</td>\n",
       "      <td>[...]</td>\n",
       "      <td>0.505</td>\n",
       "      <td>11.000000</td>\n",
       "      <td>8.102463</td>\n",
       "      <td>4.981</td>\n",
       "      <td>0.824500</td>\n",
       "      <td>1.581438</td>\n",
       "      <td>NaN</td>\n",
       "    </tr>\n",
       "    <tr>\n",
       "      <th>3</th>\n",
       "      <td>e_4.0</td>\n",
       "      <td>e_4.0</td>\n",
       "      <td>515</td>\n",
       "      <td>1000</td>\n",
       "      <td>[...]</td>\n",
       "      <td>0.515</td>\n",
       "      <td>12.333333</td>\n",
       "      <td>8.131641</td>\n",
       "      <td>5.198</td>\n",
       "      <td>0.821056</td>\n",
       "      <td>1.618921</td>\n",
       "      <td>NaN</td>\n",
       "    </tr>\n",
       "    <tr>\n",
       "      <th>4</th>\n",
       "      <td>e_5.0</td>\n",
       "      <td>e_5.0</td>\n",
       "      <td>482</td>\n",
       "      <td>1000</td>\n",
       "      <td>[...]</td>\n",
       "      <td>0.482</td>\n",
       "      <td>12.500000</td>\n",
       "      <td>8.046607</td>\n",
       "      <td>4.889</td>\n",
       "      <td>0.838125</td>\n",
       "      <td>1.502032</td>\n",
       "      <td>NaN</td>\n",
       "    </tr>\n",
       "  </tbody>\n",
       "</table>\n",
       "</div>"
      ],
      "text/plain": [
       "           Text  Types  Tokens Frequencies    TTR    h-Point   Entropy  \\\n",
       "0  e_1.0  e_1.0    543    1000       [...]  0.543  12.000000  8.244432   \n",
       "1  e_2.0  e_2.0    507    1000       [...]  0.507  12.500000  8.126562   \n",
       "2  e_3.0  e_3.0    505    1000       [...]  0.505  11.000000  8.102463   \n",
       "3  e_4.0  e_4.0    515    1000       [...]  0.515  12.333333  8.131641   \n",
       "4  e_5.0  e_5.0    482    1000       [...]  0.482  12.500000  8.046607   \n",
       "\n",
       "   Average Tokens Length        R1  Λ (Lambda)  Unnamed: 11  \n",
       "0                  5.238  0.834000    1.679643          NaN  \n",
       "1                  5.089  0.832125    1.565196          NaN  \n",
       "2                  4.981  0.824500    1.581438          NaN  \n",
       "3                  5.198  0.821056    1.618921          NaN  \n",
       "4                  4.889  0.838125    1.502032          NaN  "
      ]
     },
     "execution_count": 180,
     "metadata": {},
     "output_type": "execute_result"
    }
   ],
   "source": [
    "# 2\n",
    "# Load the data set\n",
    "\n",
    "file_path = \"C:/Users/Ευάγγελος Καρδάτος/Desktop/Multiple Text Project 1 - Results.csv\"\n",
    "\n",
    "# Import the pandas library.\n",
    "import pandas as pd\n",
    "\n",
    "# Reading in the csv file to a pandas dataframe.\n",
    "res = pd.read_csv(file_path, sep='\\t', decimal=\",\")\n",
    "\n",
    "print(\"shape:\\t\", res.shape)\n",
    "\n",
    "# Get the types of data in all columns \n",
    "res.dtypes\n",
    "res.head()"
   ]
  },
  {
   "cell_type": "code",
   "execution_count": 181,
   "id": "7e0ae38b",
   "metadata": {},
   "outputs": [
    {
     "name": "stdout",
     "output_type": "stream",
     "text": [
      "(32, 9)\n"
     ]
    },
    {
     "data": {
      "text/html": [
       "<div>\n",
       "<style scoped>\n",
       "    .dataframe tbody tr th:only-of-type {\n",
       "        vertical-align: middle;\n",
       "    }\n",
       "\n",
       "    .dataframe tbody tr th {\n",
       "        vertical-align: top;\n",
       "    }\n",
       "\n",
       "    .dataframe thead th {\n",
       "        text-align: right;\n",
       "    }\n",
       "</style>\n",
       "<table border=\"1\" class=\"dataframe\">\n",
       "  <thead>\n",
       "    <tr style=\"text-align: right;\">\n",
       "      <th></th>\n",
       "      <th>Text</th>\n",
       "      <th>Types</th>\n",
       "      <th>Tokens</th>\n",
       "      <th>TTR</th>\n",
       "      <th>h-Point</th>\n",
       "      <th>Entropy</th>\n",
       "      <th>Average Tokens Length</th>\n",
       "      <th>R1</th>\n",
       "      <th>Λ (Lambda)</th>\n",
       "    </tr>\n",
       "  </thead>\n",
       "  <tbody>\n",
       "    <tr>\n",
       "      <th>0</th>\n",
       "      <td>e_1.0</td>\n",
       "      <td>543</td>\n",
       "      <td>1000</td>\n",
       "      <td>0.543</td>\n",
       "      <td>12.000000</td>\n",
       "      <td>8.244432</td>\n",
       "      <td>5.238</td>\n",
       "      <td>0.834000</td>\n",
       "      <td>1.679643</td>\n",
       "    </tr>\n",
       "    <tr>\n",
       "      <th>1</th>\n",
       "      <td>e_2.0</td>\n",
       "      <td>507</td>\n",
       "      <td>1000</td>\n",
       "      <td>0.507</td>\n",
       "      <td>12.500000</td>\n",
       "      <td>8.126562</td>\n",
       "      <td>5.089</td>\n",
       "      <td>0.832125</td>\n",
       "      <td>1.565196</td>\n",
       "    </tr>\n",
       "    <tr>\n",
       "      <th>2</th>\n",
       "      <td>e_3.0</td>\n",
       "      <td>505</td>\n",
       "      <td>1000</td>\n",
       "      <td>0.505</td>\n",
       "      <td>11.000000</td>\n",
       "      <td>8.102463</td>\n",
       "      <td>4.981</td>\n",
       "      <td>0.824500</td>\n",
       "      <td>1.581438</td>\n",
       "    </tr>\n",
       "    <tr>\n",
       "      <th>3</th>\n",
       "      <td>e_4.0</td>\n",
       "      <td>515</td>\n",
       "      <td>1000</td>\n",
       "      <td>0.515</td>\n",
       "      <td>12.333333</td>\n",
       "      <td>8.131641</td>\n",
       "      <td>5.198</td>\n",
       "      <td>0.821056</td>\n",
       "      <td>1.618921</td>\n",
       "    </tr>\n",
       "    <tr>\n",
       "      <th>4</th>\n",
       "      <td>e_5.0</td>\n",
       "      <td>482</td>\n",
       "      <td>1000</td>\n",
       "      <td>0.482</td>\n",
       "      <td>12.500000</td>\n",
       "      <td>8.046607</td>\n",
       "      <td>4.889</td>\n",
       "      <td>0.838125</td>\n",
       "      <td>1.502032</td>\n",
       "    </tr>\n",
       "  </tbody>\n",
       "</table>\n",
       "</div>"
      ],
      "text/plain": [
       "    Text  Types  Tokens    TTR    h-Point   Entropy  Average Tokens Length  \\\n",
       "0  e_1.0    543    1000  0.543  12.000000  8.244432                  5.238   \n",
       "1  e_2.0    507    1000  0.507  12.500000  8.126562                  5.089   \n",
       "2  e_3.0    505    1000  0.505  11.000000  8.102463                  4.981   \n",
       "3  e_4.0    515    1000  0.515  12.333333  8.131641                  5.198   \n",
       "4  e_5.0    482    1000  0.482  12.500000  8.046607                  4.889   \n",
       "\n",
       "         R1  Λ (Lambda)  \n",
       "0  0.834000    1.679643  \n",
       "1  0.832125    1.565196  \n",
       "2  0.824500    1.581438  \n",
       "3  0.821056    1.618921  \n",
       "4  0.838125    1.502032  "
      ]
     },
     "execution_count": 181,
     "metadata": {},
     "output_type": "execute_result"
    }
   ],
   "source": [
    "#2 \n",
    "# Remove the duplicate column (names of texts) and the column with frequencies\n",
    "\n",
    "keys = res.keys() \n",
    "res.drop([keys[0], keys[-1]], axis='columns', inplace=True)\n",
    "res.drop(['Frequencies' ], axis='columns', inplace=True)\n",
    "print(res.shape)\n",
    "res.head()"
   ]
  },
  {
   "cell_type": "code",
   "execution_count": 182,
   "id": "ff3589d5",
   "metadata": {},
   "outputs": [
    {
     "data": {
      "text/html": [
       "<div>\n",
       "<style scoped>\n",
       "    .dataframe tbody tr th:only-of-type {\n",
       "        vertical-align: middle;\n",
       "    }\n",
       "\n",
       "    .dataframe tbody tr th {\n",
       "        vertical-align: top;\n",
       "    }\n",
       "\n",
       "    .dataframe thead th {\n",
       "        text-align: right;\n",
       "    }\n",
       "</style>\n",
       "<table border=\"1\" class=\"dataframe\">\n",
       "  <thead>\n",
       "    <tr style=\"text-align: right;\">\n",
       "      <th></th>\n",
       "      <th>Text</th>\n",
       "      <th>Types</th>\n",
       "      <th>Tokens</th>\n",
       "      <th>TTR</th>\n",
       "      <th>h-Point</th>\n",
       "      <th>Entropy</th>\n",
       "      <th>Average Tokens Length</th>\n",
       "      <th>R1</th>\n",
       "      <th>Λ (Lambda)</th>\n",
       "    </tr>\n",
       "  </thead>\n",
       "  <tbody>\n",
       "    <tr>\n",
       "      <th>count</th>\n",
       "      <td>32</td>\n",
       "      <td>32.000000</td>\n",
       "      <td>32.000000</td>\n",
       "      <td>32.000000</td>\n",
       "      <td>32.000000</td>\n",
       "      <td>32.000000</td>\n",
       "      <td>32.000000</td>\n",
       "      <td>32.000000</td>\n",
       "      <td>32.000000</td>\n",
       "    </tr>\n",
       "    <tr>\n",
       "      <th>unique</th>\n",
       "      <td>32</td>\n",
       "      <td>NaN</td>\n",
       "      <td>NaN</td>\n",
       "      <td>NaN</td>\n",
       "      <td>NaN</td>\n",
       "      <td>NaN</td>\n",
       "      <td>NaN</td>\n",
       "      <td>NaN</td>\n",
       "      <td>NaN</td>\n",
       "    </tr>\n",
       "    <tr>\n",
       "      <th>top</th>\n",
       "      <td>e_1.0</td>\n",
       "      <td>NaN</td>\n",
       "      <td>NaN</td>\n",
       "      <td>NaN</td>\n",
       "      <td>NaN</td>\n",
       "      <td>NaN</td>\n",
       "      <td>NaN</td>\n",
       "      <td>NaN</td>\n",
       "      <td>NaN</td>\n",
       "    </tr>\n",
       "    <tr>\n",
       "      <th>freq</th>\n",
       "      <td>1</td>\n",
       "      <td>NaN</td>\n",
       "      <td>NaN</td>\n",
       "      <td>NaN</td>\n",
       "      <td>NaN</td>\n",
       "      <td>NaN</td>\n",
       "      <td>NaN</td>\n",
       "      <td>NaN</td>\n",
       "      <td>NaN</td>\n",
       "    </tr>\n",
       "    <tr>\n",
       "      <th>mean</th>\n",
       "      <td>NaN</td>\n",
       "      <td>479.062500</td>\n",
       "      <td>979.687500</td>\n",
       "      <td>0.490960</td>\n",
       "      <td>12.708333</td>\n",
       "      <td>8.005160</td>\n",
       "      <td>4.894152</td>\n",
       "      <td>0.821729</td>\n",
       "      <td>1.529632</td>\n",
       "    </tr>\n",
       "    <tr>\n",
       "      <th>std</th>\n",
       "      <td>NaN</td>\n",
       "      <td>56.189161</td>\n",
       "      <td>114.904852</td>\n",
       "      <td>0.030905</td>\n",
       "      <td>1.515156</td>\n",
       "      <td>0.175701</td>\n",
       "      <td>0.165080</td>\n",
       "      <td>0.013628</td>\n",
       "      <td>0.075902</td>\n",
       "    </tr>\n",
       "    <tr>\n",
       "      <th>min</th>\n",
       "      <td>NaN</td>\n",
       "      <td>205.000000</td>\n",
       "      <td>350.000000</td>\n",
       "      <td>0.432000</td>\n",
       "      <td>6.000000</td>\n",
       "      <td>7.213200</td>\n",
       "      <td>4.562000</td>\n",
       "      <td>0.795500</td>\n",
       "      <td>1.352038</td>\n",
       "    </tr>\n",
       "    <tr>\n",
       "      <th>25%</th>\n",
       "      <td>NaN</td>\n",
       "      <td>464.750000</td>\n",
       "      <td>1000.000000</td>\n",
       "      <td>0.467250</td>\n",
       "      <td>12.333333</td>\n",
       "      <td>7.951598</td>\n",
       "      <td>4.781250</td>\n",
       "      <td>0.813000</td>\n",
       "      <td>1.480284</td>\n",
       "    </tr>\n",
       "    <tr>\n",
       "      <th>50%</th>\n",
       "      <td>NaN</td>\n",
       "      <td>487.500000</td>\n",
       "      <td>1000.000000</td>\n",
       "      <td>0.491000</td>\n",
       "      <td>13.000000</td>\n",
       "      <td>8.048444</td>\n",
       "      <td>4.907000</td>\n",
       "      <td>0.821278</td>\n",
       "      <td>1.538028</td>\n",
       "    </tr>\n",
       "    <tr>\n",
       "      <th>75%</th>\n",
       "      <td>NaN</td>\n",
       "      <td>505.500000</td>\n",
       "      <td>1000.000000</td>\n",
       "      <td>0.507750</td>\n",
       "      <td>13.625000</td>\n",
       "      <td>8.099644</td>\n",
       "      <td>4.974250</td>\n",
       "      <td>0.830031</td>\n",
       "      <td>1.584800</td>\n",
       "    </tr>\n",
       "    <tr>\n",
       "      <th>max</th>\n",
       "      <td>NaN</td>\n",
       "      <td>543.000000</td>\n",
       "      <td>1000.000000</td>\n",
       "      <td>0.585714</td>\n",
       "      <td>14.500000</td>\n",
       "      <td>8.244432</td>\n",
       "      <td>5.238000</td>\n",
       "      <td>0.865714</td>\n",
       "      <td>1.679643</td>\n",
       "    </tr>\n",
       "  </tbody>\n",
       "</table>\n",
       "</div>"
      ],
      "text/plain": [
       "         Text       Types       Tokens        TTR    h-Point    Entropy  \\\n",
       "count      32   32.000000    32.000000  32.000000  32.000000  32.000000   \n",
       "unique     32         NaN          NaN        NaN        NaN        NaN   \n",
       "top     e_1.0         NaN          NaN        NaN        NaN        NaN   \n",
       "freq        1         NaN          NaN        NaN        NaN        NaN   \n",
       "mean      NaN  479.062500   979.687500   0.490960  12.708333   8.005160   \n",
       "std       NaN   56.189161   114.904852   0.030905   1.515156   0.175701   \n",
       "min       NaN  205.000000   350.000000   0.432000   6.000000   7.213200   \n",
       "25%       NaN  464.750000  1000.000000   0.467250  12.333333   7.951598   \n",
       "50%       NaN  487.500000  1000.000000   0.491000  13.000000   8.048444   \n",
       "75%       NaN  505.500000  1000.000000   0.507750  13.625000   8.099644   \n",
       "max       NaN  543.000000  1000.000000   0.585714  14.500000   8.244432   \n",
       "\n",
       "        Average Tokens Length         R1  Λ (Lambda)  \n",
       "count               32.000000  32.000000   32.000000  \n",
       "unique                    NaN        NaN         NaN  \n",
       "top                       NaN        NaN         NaN  \n",
       "freq                      NaN        NaN         NaN  \n",
       "mean                 4.894152   0.821729    1.529632  \n",
       "std                  0.165080   0.013628    0.075902  \n",
       "min                  4.562000   0.795500    1.352038  \n",
       "25%                  4.781250   0.813000    1.480284  \n",
       "50%                  4.907000   0.821278    1.538028  \n",
       "75%                  4.974250   0.830031    1.584800  \n",
       "max                  5.238000   0.865714    1.679643  "
      ]
     },
     "execution_count": 182,
     "metadata": {},
     "output_type": "execute_result"
    }
   ],
   "source": [
    "# 2\n",
    "# Statistics \n",
    "res.describe(include='all')"
   ]
  },
  {
   "cell_type": "code",
   "execution_count": 183,
   "id": "1f9c395a",
   "metadata": {},
   "outputs": [
    {
     "data": {
      "image/png": "[encoded data removed]",
      "text/plain": [
       "<Figure size 432x288 with 1 Axes>"
      ]
     },
     "metadata": {
      "needs_background": "light"
     },
     "output_type": "display_data"
    },
    {
     "data": {
      "image/png": "[encoded data removed]",
      "text/plain": [
       "<Figure size 432x288 with 1 Axes>"
      ]
     },
     "metadata": {
      "needs_background": "light"
     },
     "output_type": "display_data"
    },
    {
     "data": {
      "image/png": "[encoded data removed]",
      "text/plain": [
       "<Figure size 432x288 with 1 Axes>"
      ]
     },
     "metadata": {
      "needs_background": "light"
     },
     "output_type": "display_data"
    },
    {
     "data": {
      "image/png": "[encoded data removed]",
      "text/plain": [
       "<Figure size 432x288 with 1 Axes>"
      ]
     },
     "metadata": {
      "needs_background": "light"
     },
     "output_type": "display_data"
    },
    {
     "data": {
      "image/png": "[encoded data removed]",
      "text/plain": [
       "<Figure size 432x288 with 1 Axes>"
      ]
     },
     "metadata": {
      "needs_background": "light"
     },
     "output_type": "display_data"
    },
    {
     "data": {
      "image/png": "[encoded data removed]",
      "text/plain": [
       "<Figure size 432x288 with 1 Axes>"
      ]
     },
     "metadata": {
      "needs_background": "light"
     },
     "output_type": "display_data"
    }
   ],
   "source": [
    "# 3\n",
    "# Make boxplots for every single index\n",
    "\n",
    "import matplotlib.pyplot as plt\n",
    "column_list = ['TTR', 'h-Point', 'Entropy','Average Tokens Length', 'R1', 'Λ (Lambda)']\n",
    "for temp in column_list:\n",
    "    res.boxplot(column=[temp])\n",
    "    plt.show()"
   ]
  },
  {
   "cell_type": "code",
   "execution_count": 184,
   "id": "5f3aaf21",
   "metadata": {},
   "outputs": [
    {
     "data": {
      "text/plain": [
       "0    13.0\n",
       "dtype: float64"
      ]
     },
     "execution_count": 184,
     "metadata": {},
     "output_type": "execute_result"
    }
   ],
   "source": [
    "# 4\n",
    "# Find the mode value for h-Point\n",
    "\n",
    "import statistics\n",
    "res['h-Point'].mode()"
   ]
  },
  {
   "cell_type": "code",
   "execution_count": 185,
   "id": "f87f054a",
   "metadata": {},
   "outputs": [
    {
     "name": "stdout",
     "output_type": "stream",
     "text": [
      "{29, 31}\n",
      "(30, 9)\n"
     ]
    },
    {
     "data": {
      "text/html": [
       "<div>\n",
       "<style scoped>\n",
       "    .dataframe tbody tr th:only-of-type {\n",
       "        vertical-align: middle;\n",
       "    }\n",
       "\n",
       "    .dataframe tbody tr th {\n",
       "        vertical-align: top;\n",
       "    }\n",
       "\n",
       "    .dataframe thead th {\n",
       "        text-align: right;\n",
       "    }\n",
       "</style>\n",
       "<table border=\"1\" class=\"dataframe\">\n",
       "  <thead>\n",
       "    <tr style=\"text-align: right;\">\n",
       "      <th></th>\n",
       "      <th>Text</th>\n",
       "      <th>Types</th>\n",
       "      <th>Tokens</th>\n",
       "      <th>TTR</th>\n",
       "      <th>h-Point</th>\n",
       "      <th>Entropy</th>\n",
       "      <th>Average Tokens Length</th>\n",
       "      <th>R1</th>\n",
       "      <th>Λ (Lambda)</th>\n",
       "    </tr>\n",
       "  </thead>\n",
       "  <tbody>\n",
       "    <tr>\n",
       "      <th>0</th>\n",
       "      <td>e_1.0</td>\n",
       "      <td>543</td>\n",
       "      <td>1000</td>\n",
       "      <td>0.543</td>\n",
       "      <td>12.000000</td>\n",
       "      <td>8.244432</td>\n",
       "      <td>5.238</td>\n",
       "      <td>0.834000</td>\n",
       "      <td>1.679643</td>\n",
       "    </tr>\n",
       "    <tr>\n",
       "      <th>1</th>\n",
       "      <td>e_2.0</td>\n",
       "      <td>507</td>\n",
       "      <td>1000</td>\n",
       "      <td>0.507</td>\n",
       "      <td>12.500000</td>\n",
       "      <td>8.126562</td>\n",
       "      <td>5.089</td>\n",
       "      <td>0.832125</td>\n",
       "      <td>1.565196</td>\n",
       "    </tr>\n",
       "    <tr>\n",
       "      <th>2</th>\n",
       "      <td>e_3.0</td>\n",
       "      <td>505</td>\n",
       "      <td>1000</td>\n",
       "      <td>0.505</td>\n",
       "      <td>11.000000</td>\n",
       "      <td>8.102463</td>\n",
       "      <td>4.981</td>\n",
       "      <td>0.824500</td>\n",
       "      <td>1.581438</td>\n",
       "    </tr>\n",
       "    <tr>\n",
       "      <th>3</th>\n",
       "      <td>e_4.0</td>\n",
       "      <td>515</td>\n",
       "      <td>1000</td>\n",
       "      <td>0.515</td>\n",
       "      <td>12.333333</td>\n",
       "      <td>8.131641</td>\n",
       "      <td>5.198</td>\n",
       "      <td>0.821056</td>\n",
       "      <td>1.618921</td>\n",
       "    </tr>\n",
       "    <tr>\n",
       "      <th>4</th>\n",
       "      <td>e_5.0</td>\n",
       "      <td>482</td>\n",
       "      <td>1000</td>\n",
       "      <td>0.482</td>\n",
       "      <td>12.500000</td>\n",
       "      <td>8.046607</td>\n",
       "      <td>4.889</td>\n",
       "      <td>0.838125</td>\n",
       "      <td>1.502032</td>\n",
       "    </tr>\n",
       "    <tr>\n",
       "      <th>5</th>\n",
       "      <td>e_6.0</td>\n",
       "      <td>493</td>\n",
       "      <td>1000</td>\n",
       "      <td>0.493</td>\n",
       "      <td>13.000000</td>\n",
       "      <td>8.072459</td>\n",
       "      <td>4.947</td>\n",
       "      <td>0.821500</td>\n",
       "      <td>1.532695</td>\n",
       "    </tr>\n",
       "    <tr>\n",
       "      <th>6</th>\n",
       "      <td>e_7.0</td>\n",
       "      <td>480</td>\n",
       "      <td>1000</td>\n",
       "      <td>0.480</td>\n",
       "      <td>14.500000</td>\n",
       "      <td>7.933882</td>\n",
       "      <td>4.864</td>\n",
       "      <td>0.808125</td>\n",
       "      <td>1.500104</td>\n",
       "    </tr>\n",
       "    <tr>\n",
       "      <th>7</th>\n",
       "      <td>e_8.0</td>\n",
       "      <td>510</td>\n",
       "      <td>1000</td>\n",
       "      <td>0.510</td>\n",
       "      <td>12.500000</td>\n",
       "      <td>8.124733</td>\n",
       "      <td>5.017</td>\n",
       "      <td>0.830125</td>\n",
       "      <td>1.605833</td>\n",
       "    </tr>\n",
       "    <tr>\n",
       "      <th>8</th>\n",
       "      <td>e_9.0</td>\n",
       "      <td>518</td>\n",
       "      <td>1000</td>\n",
       "      <td>0.518</td>\n",
       "      <td>13.000000</td>\n",
       "      <td>8.105873</td>\n",
       "      <td>4.930</td>\n",
       "      <td>0.822500</td>\n",
       "      <td>1.606624</td>\n",
       "    </tr>\n",
       "    <tr>\n",
       "      <th>9</th>\n",
       "      <td>e_10.0</td>\n",
       "      <td>505</td>\n",
       "      <td>1000</td>\n",
       "      <td>0.505</td>\n",
       "      <td>13.500000</td>\n",
       "      <td>8.037289</td>\n",
       "      <td>4.783</td>\n",
       "      <td>0.813125</td>\n",
       "      <td>1.573331</td>\n",
       "    </tr>\n",
       "    <tr>\n",
       "      <th>10</th>\n",
       "      <td>e_11.0</td>\n",
       "      <td>499</td>\n",
       "      <td>1000</td>\n",
       "      <td>0.499</td>\n",
       "      <td>14.000000</td>\n",
       "      <td>8.053435</td>\n",
       "      <td>4.826</td>\n",
       "      <td>0.821000</td>\n",
       "      <td>1.547658</td>\n",
       "    </tr>\n",
       "    <tr>\n",
       "      <th>11</th>\n",
       "      <td>e_12.0</td>\n",
       "      <td>502</td>\n",
       "      <td>1000</td>\n",
       "      <td>0.502</td>\n",
       "      <td>12.000000</td>\n",
       "      <td>8.098704</td>\n",
       "      <td>4.950</td>\n",
       "      <td>0.830000</td>\n",
       "      <td>1.586375</td>\n",
       "    </tr>\n",
       "    <tr>\n",
       "      <th>12</th>\n",
       "      <td>e_13.0</td>\n",
       "      <td>501</td>\n",
       "      <td>1000</td>\n",
       "      <td>0.501</td>\n",
       "      <td>12.333333</td>\n",
       "      <td>8.085771</td>\n",
       "      <td>4.917</td>\n",
       "      <td>0.819056</td>\n",
       "      <td>1.582009</td>\n",
       "    </tr>\n",
       "    <tr>\n",
       "      <th>13</th>\n",
       "      <td>e_14.0</td>\n",
       "      <td>518</td>\n",
       "      <td>1000</td>\n",
       "      <td>0.518</td>\n",
       "      <td>12.000000</td>\n",
       "      <td>8.093864</td>\n",
       "      <td>5.039</td>\n",
       "      <td>0.803000</td>\n",
       "      <td>1.610140</td>\n",
       "    </tr>\n",
       "    <tr>\n",
       "      <th>14</th>\n",
       "      <td>e_15.0</td>\n",
       "      <td>486</td>\n",
       "      <td>1000</td>\n",
       "      <td>0.486</td>\n",
       "      <td>12.500000</td>\n",
       "      <td>8.050282</td>\n",
       "      <td>4.961</td>\n",
       "      <td>0.827125</td>\n",
       "      <td>1.510409</td>\n",
       "    </tr>\n",
       "    <tr>\n",
       "      <th>15</th>\n",
       "      <td>e_16.0</td>\n",
       "      <td>479</td>\n",
       "      <td>1000</td>\n",
       "      <td>0.479</td>\n",
       "      <td>13.000000</td>\n",
       "      <td>8.080982</td>\n",
       "      <td>4.956</td>\n",
       "      <td>0.842500</td>\n",
       "      <td>1.481176</td>\n",
       "    </tr>\n",
       "    <tr>\n",
       "      <th>16</th>\n",
       "      <td>e_17.0</td>\n",
       "      <td>517</td>\n",
       "      <td>1000</td>\n",
       "      <td>0.517</td>\n",
       "      <td>12.500000</td>\n",
       "      <td>8.130865</td>\n",
       "      <td>4.972</td>\n",
       "      <td>0.828125</td>\n",
       "      <td>1.624910</td>\n",
       "    </tr>\n",
       "    <tr>\n",
       "      <th>17</th>\n",
       "      <td>e_18.0</td>\n",
       "      <td>465</td>\n",
       "      <td>1000</td>\n",
       "      <td>0.465</td>\n",
       "      <td>13.000000</td>\n",
       "      <td>7.947709</td>\n",
       "      <td>4.605</td>\n",
       "      <td>0.809500</td>\n",
       "      <td>1.484587</td>\n",
       "    </tr>\n",
       "    <tr>\n",
       "      <th>18</th>\n",
       "      <td>e_19.0</td>\n",
       "      <td>498</td>\n",
       "      <td>1000</td>\n",
       "      <td>0.498</td>\n",
       "      <td>13.000000</td>\n",
       "      <td>8.027064</td>\n",
       "      <td>4.897</td>\n",
       "      <td>0.816500</td>\n",
       "      <td>1.584275</td>\n",
       "    </tr>\n",
       "    <tr>\n",
       "      <th>19</th>\n",
       "      <td>e_20.0</td>\n",
       "      <td>485</td>\n",
       "      <td>1000</td>\n",
       "      <td>0.485</td>\n",
       "      <td>11.000000</td>\n",
       "      <td>8.009736</td>\n",
       "      <td>4.957</td>\n",
       "      <td>0.806500</td>\n",
       "      <td>1.526005</td>\n",
       "    </tr>\n",
       "    <tr>\n",
       "      <th>20</th>\n",
       "      <td>e_21.0</td>\n",
       "      <td>489</td>\n",
       "      <td>1000</td>\n",
       "      <td>0.489</td>\n",
       "      <td>13.000000</td>\n",
       "      <td>8.069092</td>\n",
       "      <td>5.144</td>\n",
       "      <td>0.830500</td>\n",
       "      <td>1.543360</td>\n",
       "    </tr>\n",
       "    <tr>\n",
       "      <th>21</th>\n",
       "      <td>e_22.0</td>\n",
       "      <td>515</td>\n",
       "      <td>1000</td>\n",
       "      <td>0.515</td>\n",
       "      <td>13.000000</td>\n",
       "      <td>8.167366</td>\n",
       "      <td>5.053</td>\n",
       "      <td>0.832500</td>\n",
       "      <td>1.599660</td>\n",
       "    </tr>\n",
       "    <tr>\n",
       "      <th>22</th>\n",
       "      <td>e_23.0</td>\n",
       "      <td>476</td>\n",
       "      <td>1000</td>\n",
       "      <td>0.476</td>\n",
       "      <td>14.000000</td>\n",
       "      <td>7.953877</td>\n",
       "      <td>4.889</td>\n",
       "      <td>0.814000</td>\n",
       "      <td>1.505409</td>\n",
       "    </tr>\n",
       "    <tr>\n",
       "      <th>23</th>\n",
       "      <td>e_24.0</td>\n",
       "      <td>443</td>\n",
       "      <td>1000</td>\n",
       "      <td>0.443</td>\n",
       "      <td>14.000000</td>\n",
       "      <td>7.854939</td>\n",
       "      <td>4.707</td>\n",
       "      <td>0.813000</td>\n",
       "      <td>1.379473</td>\n",
       "    </tr>\n",
       "    <tr>\n",
       "      <th>24</th>\n",
       "      <td>e_25.0</td>\n",
       "      <td>464</td>\n",
       "      <td>1000</td>\n",
       "      <td>0.464</td>\n",
       "      <td>12.000000</td>\n",
       "      <td>7.935708</td>\n",
       "      <td>4.776</td>\n",
       "      <td>0.807000</td>\n",
       "      <td>1.477606</td>\n",
       "    </tr>\n",
       "    <tr>\n",
       "      <th>25</th>\n",
       "      <td>e_26.0</td>\n",
       "      <td>432</td>\n",
       "      <td>1000</td>\n",
       "      <td>0.432</td>\n",
       "      <td>14.000000</td>\n",
       "      <td>7.830299</td>\n",
       "      <td>4.714</td>\n",
       "      <td>0.813000</td>\n",
       "      <td>1.352038</td>\n",
       "    </tr>\n",
       "    <tr>\n",
       "      <th>26</th>\n",
       "      <td>e_27.0</td>\n",
       "      <td>468</td>\n",
       "      <td>1000</td>\n",
       "      <td>0.468</td>\n",
       "      <td>14.000000</td>\n",
       "      <td>7.987156</td>\n",
       "      <td>4.752</td>\n",
       "      <td>0.821000</td>\n",
       "      <td>1.462604</td>\n",
       "    </tr>\n",
       "    <tr>\n",
       "      <th>27</th>\n",
       "      <td>e_28.0</td>\n",
       "      <td>464</td>\n",
       "      <td>1000</td>\n",
       "      <td>0.464</td>\n",
       "      <td>14.500000</td>\n",
       "      <td>7.952894</td>\n",
       "      <td>4.844</td>\n",
       "      <td>0.827125</td>\n",
       "      <td>1.439257</td>\n",
       "    </tr>\n",
       "    <tr>\n",
       "      <th>28</th>\n",
       "      <td>e_29.0</td>\n",
       "      <td>463</td>\n",
       "      <td>1000</td>\n",
       "      <td>0.463</td>\n",
       "      <td>13.000000</td>\n",
       "      <td>7.965676</td>\n",
       "      <td>4.717</td>\n",
       "      <td>0.822500</td>\n",
       "      <td>1.454749</td>\n",
       "    </tr>\n",
       "    <tr>\n",
       "      <th>30</th>\n",
       "      <td>e_31.0</td>\n",
       "      <td>464</td>\n",
       "      <td>1000</td>\n",
       "      <td>0.464</td>\n",
       "      <td>14.000000</td>\n",
       "      <td>7.928388</td>\n",
       "      <td>4.596</td>\n",
       "      <td>0.805000</td>\n",
       "      <td>1.444303</td>\n",
       "    </tr>\n",
       "  </tbody>\n",
       "</table>\n",
       "</div>"
      ],
      "text/plain": [
       "      Text  Types  Tokens    TTR    h-Point   Entropy  Average Tokens Length  \\\n",
       "0    e_1.0    543    1000  0.543  12.000000  8.244432                  5.238   \n",
       "1    e_2.0    507    1000  0.507  12.500000  8.126562                  5.089   \n",
       "2    e_3.0    505    1000  0.505  11.000000  8.102463                  4.981   \n",
       "3    e_4.0    515    1000  0.515  12.333333  8.131641                  5.198   \n",
       "4    e_5.0    482    1000  0.482  12.500000  8.046607                  4.889   \n",
       "5    e_6.0    493    1000  0.493  13.000000  8.072459                  4.947   \n",
       "6    e_7.0    480    1000  0.480  14.500000  7.933882                  4.864   \n",
       "7    e_8.0    510    1000  0.510  12.500000  8.124733                  5.017   \n",
       "8    e_9.0    518    1000  0.518  13.000000  8.105873                  4.930   \n",
       "9   e_10.0    505    1000  0.505  13.500000  8.037289                  4.783   \n",
       "10  e_11.0    499    1000  0.499  14.000000  8.053435                  4.826   \n",
       "11  e_12.0    502    1000  0.502  12.000000  8.098704                  4.950   \n",
       "12  e_13.0    501    1000  0.501  12.333333  8.085771                  4.917   \n",
       "13  e_14.0    518    1000  0.518  12.000000  8.093864                  5.039   \n",
       "14  e_15.0    486    1000  0.486  12.500000  8.050282                  4.961   \n",
       "15  e_16.0    479    1000  0.479  13.000000  8.080982                  4.956   \n",
       "16  e_17.0    517    1000  0.517  12.500000  8.130865                  4.972   \n",
       "17  e_18.0    465    1000  0.465  13.000000  7.947709                  4.605   \n",
       "18  e_19.0    498    1000  0.498  13.000000  8.027064                  4.897   \n",
       "19  e_20.0    485    1000  0.485  11.000000  8.009736                  4.957   \n",
       "20  e_21.0    489    1000  0.489  13.000000  8.069092                  5.144   \n",
       "21  e_22.0    515    1000  0.515  13.000000  8.167366                  5.053   \n",
       "22  e_23.0    476    1000  0.476  14.000000  7.953877                  4.889   \n",
       "23  e_24.0    443    1000  0.443  14.000000  7.854939                  4.707   \n",
       "24  e_25.0    464    1000  0.464  12.000000  7.935708                  4.776   \n",
       "25  e_26.0    432    1000  0.432  14.000000  7.830299                  4.714   \n",
       "26  e_27.0    468    1000  0.468  14.000000  7.987156                  4.752   \n",
       "27  e_28.0    464    1000  0.464  14.500000  7.952894                  4.844   \n",
       "28  e_29.0    463    1000  0.463  13.000000  7.965676                  4.717   \n",
       "30  e_31.0    464    1000  0.464  14.000000  7.928388                  4.596   \n",
       "\n",
       "          R1  Λ (Lambda)  \n",
       "0   0.834000    1.679643  \n",
       "1   0.832125    1.565196  \n",
       "2   0.824500    1.581438  \n",
       "3   0.821056    1.618921  \n",
       "4   0.838125    1.502032  \n",
       "5   0.821500    1.532695  \n",
       "6   0.808125    1.500104  \n",
       "7   0.830125    1.605833  \n",
       "8   0.822500    1.606624  \n",
       "9   0.813125    1.573331  \n",
       "10  0.821000    1.547658  \n",
       "11  0.830000    1.586375  \n",
       "12  0.819056    1.582009  \n",
       "13  0.803000    1.610140  \n",
       "14  0.827125    1.510409  \n",
       "15  0.842500    1.481176  \n",
       "16  0.828125    1.624910  \n",
       "17  0.809500    1.484587  \n",
       "18  0.816500    1.584275  \n",
       "19  0.806500    1.526005  \n",
       "20  0.830500    1.543360  \n",
       "21  0.832500    1.599660  \n",
       "22  0.814000    1.505409  \n",
       "23  0.813000    1.379473  \n",
       "24  0.807000    1.477606  \n",
       "25  0.813000    1.352038  \n",
       "26  0.821000    1.462604  \n",
       "27  0.827125    1.439257  \n",
       "28  0.822500    1.454749  \n",
       "30  0.805000    1.444303  "
      ]
     },
     "execution_count": 185,
     "metadata": {},
     "output_type": "execute_result"
    }
   ],
   "source": [
    "# 6\n",
    "# Find the outliers and remove them\n",
    "\n",
    "s = set()\n",
    "\n",
    "a1 = res.index[res['TTR'] > 0.55] #.tolist()\n",
    "for temp in a1:\n",
    "    s.add(temp)\n",
    "    \n",
    "a2 = res.index[res['h-Point'] < 10] #.tolist()\n",
    "for temp in a2:\n",
    "    s.add(temp)\n",
    "\n",
    "\n",
    "a3 = res.index[res['Entropy'] <7.81] #.tolist()\n",
    "for temp in a3:\n",
    "    s.add(temp)\n",
    "\n",
    "#a4 = res.index[res['Average Tokens Length'] >0.551]\n",
    "\n",
    "a5 = res.index[res['R1'] > 0.85] #.tolist()\n",
    "for temp in a5:\n",
    "    s.add(temp)\n",
    "\n",
    "#a7 = res.index[res['Λ (Lambda)'] >0.551]\n",
    "\n",
    "print(s)\n",
    "res1 = res.drop(list(s), axis=0, inplace=False)\n",
    "\n",
    "print(res1.shape)\n",
    "res1"
   ]
  },
  {
   "cell_type": "code",
   "execution_count": 186,
   "id": "be16a41d",
   "metadata": {},
   "outputs": [
    {
     "data": {
      "text/html": [
       "<div>\n",
       "<style scoped>\n",
       "    .dataframe tbody tr th:only-of-type {\n",
       "        vertical-align: middle;\n",
       "    }\n",
       "\n",
       "    .dataframe tbody tr th {\n",
       "        vertical-align: top;\n",
       "    }\n",
       "\n",
       "    .dataframe thead th {\n",
       "        text-align: right;\n",
       "    }\n",
       "</style>\n",
       "<table border=\"1\" class=\"dataframe\">\n",
       "  <thead>\n",
       "    <tr style=\"text-align: right;\">\n",
       "      <th></th>\n",
       "      <th>Text</th>\n",
       "      <th>Types</th>\n",
       "      <th>Tokens</th>\n",
       "      <th>TTR</th>\n",
       "      <th>h-Point</th>\n",
       "      <th>Entropy</th>\n",
       "      <th>Average Tokens Length</th>\n",
       "      <th>R1</th>\n",
       "      <th>Λ (Lambda)</th>\n",
       "    </tr>\n",
       "  </thead>\n",
       "  <tbody>\n",
       "    <tr>\n",
       "      <th>count</th>\n",
       "      <td>30</td>\n",
       "      <td>30.000000</td>\n",
       "      <td>30.0</td>\n",
       "      <td>30.000000</td>\n",
       "      <td>30.000000</td>\n",
       "      <td>30.000000</td>\n",
       "      <td>30.000000</td>\n",
       "      <td>30.000000</td>\n",
       "      <td>30.000000</td>\n",
       "    </tr>\n",
       "    <tr>\n",
       "      <th>unique</th>\n",
       "      <td>30</td>\n",
       "      <td>NaN</td>\n",
       "      <td>NaN</td>\n",
       "      <td>NaN</td>\n",
       "      <td>NaN</td>\n",
       "      <td>NaN</td>\n",
       "      <td>NaN</td>\n",
       "      <td>NaN</td>\n",
       "      <td>NaN</td>\n",
       "    </tr>\n",
       "    <tr>\n",
       "      <th>top</th>\n",
       "      <td>e_1.0</td>\n",
       "      <td>NaN</td>\n",
       "      <td>NaN</td>\n",
       "      <td>NaN</td>\n",
       "      <td>NaN</td>\n",
       "      <td>NaN</td>\n",
       "      <td>NaN</td>\n",
       "      <td>NaN</td>\n",
       "      <td>NaN</td>\n",
       "    </tr>\n",
       "    <tr>\n",
       "      <th>freq</th>\n",
       "      <td>1</td>\n",
       "      <td>NaN</td>\n",
       "      <td>NaN</td>\n",
       "      <td>NaN</td>\n",
       "      <td>NaN</td>\n",
       "      <td>NaN</td>\n",
       "      <td>NaN</td>\n",
       "      <td>NaN</td>\n",
       "      <td>NaN</td>\n",
       "    </tr>\n",
       "    <tr>\n",
       "      <th>mean</th>\n",
       "      <td>NaN</td>\n",
       "      <td>489.533333</td>\n",
       "      <td>1000.0</td>\n",
       "      <td>0.489533</td>\n",
       "      <td>12.922222</td>\n",
       "      <td>8.038325</td>\n",
       "      <td>4.906933</td>\n",
       "      <td>0.821137</td>\n",
       "      <td>1.532061</td>\n",
       "    </tr>\n",
       "    <tr>\n",
       "      <th>std</th>\n",
       "      <td>NaN</td>\n",
       "      <td>24.823145</td>\n",
       "      <td>0.0</td>\n",
       "      <td>0.024823</td>\n",
       "      <td>0.923027</td>\n",
       "      <td>0.093881</td>\n",
       "      <td>0.158325</td>\n",
       "      <td>0.010380</td>\n",
       "      <td>0.075920</td>\n",
       "    </tr>\n",
       "    <tr>\n",
       "      <th>min</th>\n",
       "      <td>NaN</td>\n",
       "      <td>432.000000</td>\n",
       "      <td>1000.0</td>\n",
       "      <td>0.432000</td>\n",
       "      <td>11.000000</td>\n",
       "      <td>7.830299</td>\n",
       "      <td>4.596000</td>\n",
       "      <td>0.803000</td>\n",
       "      <td>1.352038</td>\n",
       "    </tr>\n",
       "    <tr>\n",
       "      <th>25%</th>\n",
       "      <td>NaN</td>\n",
       "      <td>470.000000</td>\n",
       "      <td>1000.0</td>\n",
       "      <td>0.470000</td>\n",
       "      <td>12.375000</td>\n",
       "      <td>7.956827</td>\n",
       "      <td>4.793750</td>\n",
       "      <td>0.813031</td>\n",
       "      <td>1.482029</td>\n",
       "    </tr>\n",
       "    <tr>\n",
       "      <th>50%</th>\n",
       "      <td>NaN</td>\n",
       "      <td>491.000000</td>\n",
       "      <td>1000.0</td>\n",
       "      <td>0.491000</td>\n",
       "      <td>13.000000</td>\n",
       "      <td>8.051858</td>\n",
       "      <td>4.923500</td>\n",
       "      <td>0.821278</td>\n",
       "      <td>1.538028</td>\n",
       "    </tr>\n",
       "    <tr>\n",
       "      <th>75%</th>\n",
       "      <td>NaN</td>\n",
       "      <td>506.500000</td>\n",
       "      <td>1000.0</td>\n",
       "      <td>0.506500</td>\n",
       "      <td>13.875000</td>\n",
       "      <td>8.101523</td>\n",
       "      <td>4.978750</td>\n",
       "      <td>0.829531</td>\n",
       "      <td>1.585850</td>\n",
       "    </tr>\n",
       "    <tr>\n",
       "      <th>max</th>\n",
       "      <td>NaN</td>\n",
       "      <td>543.000000</td>\n",
       "      <td>1000.0</td>\n",
       "      <td>0.543000</td>\n",
       "      <td>14.500000</td>\n",
       "      <td>8.244432</td>\n",
       "      <td>5.238000</td>\n",
       "      <td>0.842500</td>\n",
       "      <td>1.679643</td>\n",
       "    </tr>\n",
       "  </tbody>\n",
       "</table>\n",
       "</div>"
      ],
      "text/plain": [
       "         Text       Types  Tokens        TTR    h-Point    Entropy  \\\n",
       "count      30   30.000000    30.0  30.000000  30.000000  30.000000   \n",
       "unique     30         NaN     NaN        NaN        NaN        NaN   \n",
       "top     e_1.0         NaN     NaN        NaN        NaN        NaN   \n",
       "freq        1         NaN     NaN        NaN        NaN        NaN   \n",
       "mean      NaN  489.533333  1000.0   0.489533  12.922222   8.038325   \n",
       "std       NaN   24.823145     0.0   0.024823   0.923027   0.093881   \n",
       "min       NaN  432.000000  1000.0   0.432000  11.000000   7.830299   \n",
       "25%       NaN  470.000000  1000.0   0.470000  12.375000   7.956827   \n",
       "50%       NaN  491.000000  1000.0   0.491000  13.000000   8.051858   \n",
       "75%       NaN  506.500000  1000.0   0.506500  13.875000   8.101523   \n",
       "max       NaN  543.000000  1000.0   0.543000  14.500000   8.244432   \n",
       "\n",
       "        Average Tokens Length         R1  Λ (Lambda)  \n",
       "count               30.000000  30.000000   30.000000  \n",
       "unique                    NaN        NaN         NaN  \n",
       "top                       NaN        NaN         NaN  \n",
       "freq                      NaN        NaN         NaN  \n",
       "mean                 4.906933   0.821137    1.532061  \n",
       "std                  0.158325   0.010380    0.075920  \n",
       "min                  4.596000   0.803000    1.352038  \n",
       "25%                  4.793750   0.813031    1.482029  \n",
       "50%                  4.923500   0.821278    1.538028  \n",
       "75%                  4.978750   0.829531    1.585850  \n",
       "max                  5.238000   0.842500    1.679643  "
      ]
     },
     "execution_count": 186,
     "metadata": {},
     "output_type": "execute_result"
    }
   ],
   "source": [
    "# Statistics \n",
    "res1.describe(include='all')"
   ]
  },
  {
   "cell_type": "code",
   "execution_count": 187,
   "id": "53842ff3",
   "metadata": {},
   "outputs": [
    {
     "data": {
      "image/png": "[encoded data removed]",
      "text/plain": [
       "<Figure size 432x288 with 1 Axes>"
      ]
     },
     "metadata": {
      "needs_background": "light"
     },
     "output_type": "display_data"
    },
    {
     "data": {
      "image/png": "[encoded data removed]",
      "text/plain": [
       "<Figure size 432x288 with 1 Axes>"
      ]
     },
     "metadata": {
      "needs_background": "light"
     },
     "output_type": "display_data"
    },
    {
     "data": {
      "image/png": "[encoded data removed]",
      "text/plain": [
       "<Figure size 432x288 with 1 Axes>"
      ]
     },
     "metadata": {
      "needs_background": "light"
     },
     "output_type": "display_data"
    },
    {
     "data": {
      "image/png": "[encoded data removed]",
      "text/plain": [
       "<Figure size 432x288 with 1 Axes>"
      ]
     },
     "metadata": {
      "needs_background": "light"
     },
     "output_type": "display_data"
    },
    {
     "data": {
      "image/png": "[encoded data removed]",
      "text/plain": [
       "<Figure size 432x288 with 1 Axes>"
      ]
     },
     "metadata": {
      "needs_background": "light"
     },
     "output_type": "display_data"
    },
    {
     "data": {
      "image/png": "[encoded data removed]",
      "text/plain": [
       "<Figure size 432x288 with 1 Axes>"
      ]
     },
     "metadata": {
      "needs_background": "light"
     },
     "output_type": "display_data"
    }
   ],
   "source": [
    "# 6\n",
    "# Remove the outliers for every single index\n",
    "\n",
    "import matplotlib.pyplot as plt\n",
    "column_list = ['TTR', 'h-Point', 'Entropy','Average Tokens Length', 'R1', 'Λ (Lambda)']\n",
    "for temp in column_list:\n",
    "    res1.boxplot(column=[temp])\n",
    "    plt.show()"
   ]
  },
  {
   "cell_type": "code",
   "execution_count": 188,
   "id": "98640048",
   "metadata": {},
   "outputs": [
    {
     "name": "stdout",
     "output_type": "stream",
     "text": [
      "TTR: 0.4895333333333333\n",
      "h-Point: 12.922222199999998\n",
      "Entropy: 8.038324933333334\n",
      "Average Tokens Length: 4.906933333333334\n",
      "R1: 0.8211370666666666\n",
      "Λ (Lambda): 1.5320606666666667\n"
     ]
    }
   ],
   "source": [
    "# 6\n",
    "# Find the MEAN average\n",
    "print(\"TTR:\", res1['TTR'].mean())\n",
    "print(\"h-Point:\", res1['h-Point'].mean())\n",
    "print(\"Entropy:\", res1['Entropy'].mean())\n",
    "print(\"Average Tokens Length:\", res1['Average Tokens Length'].mean())\n",
    "print(\"R1:\", res1['R1'].mean())\n",
    "print(\"Λ (Lambda):\", res1['Λ (Lambda)'].mean())"
   ]
  },
  {
   "cell_type": "code",
   "execution_count": 189,
   "id": "dd39d0c3",
   "metadata": {},
   "outputs": [
    {
     "name": "stdout",
     "output_type": "stream",
     "text": [
      "TTR: 0.491\n",
      "h-Point: 13.0\n",
      "Entropy: 8.0518585\n",
      "Average Tokens Length: 4.9235\n",
      "R1: 0.821278\n",
      "Λ (Lambda): 1.5380275\n"
     ]
    }
   ],
   "source": [
    "# 6\n",
    "# Find the MEDIAN\n",
    "print(\"TTR:\", res1['TTR'].median())\n",
    "print(\"h-Point:\", res1['h-Point'].median())\n",
    "print(\"Entropy:\", res1['Entropy'].median())\n",
    "print(\"Average Tokens Length:\", res1['Average Tokens Length'].median())\n",
    "print(\"R1:\", res1['R1'].median())\n",
    "print(\"Λ (Lambda):\", res1['Λ (Lambda)'].median())"
   ]
  },
  {
   "cell_type": "code",
   "execution_count": 190,
   "id": "32e57cc5",
   "metadata": {},
   "outputs": [
    {
     "name": "stdout",
     "output_type": "stream",
     "text": [
      "TTR: 0.024823144557995197\n",
      "h-Point: 0.9230274063363598\n",
      "Entropy: 0.0938812161469843\n",
      "Average Tokens Length: 0.1583246192399378\n",
      "R1: 0.010380010055583904\n",
      "Λ (Lambda): 0.07591957851129927\n"
     ]
    }
   ],
   "source": [
    "# 6\n",
    "# Find the STANDARD DEVIATION\n",
    "print(\"TTR:\", statistics.stdev(res1['TTR']))\n",
    "print(\"h-Point:\", statistics.stdev(res1['h-Point']))\n",
    "print(\"Entropy:\", statistics.stdev(res1['Entropy']))\n",
    "print(\"Average Tokens Length:\", statistics.stdev(res1['Average Tokens Length']))\n",
    "print(\"R1:\", statistics.stdev(res1['R1']))\n",
    "print(\"Λ (Lambda):\", statistics.stdev(res1['Λ (Lambda)']))"
   ]
  },
  {
   "cell_type": "code",
   "execution_count": 197,
   "id": "7390b736",
   "metadata": {},
   "outputs": [
    {
     "name": "stdout",
     "output_type": "stream",
     "text": [
      "count    30.000000\n",
      "mean      0.489533\n",
      "std       0.024823\n",
      "min       0.432000\n",
      "25%       0.470000\n",
      "50%       0.491000\n",
      "75%       0.506500\n",
      "max       0.543000\n",
      "Name: TTR, dtype: float64\n"
     ]
    },
    {
     "data": {
      "image/png": "[encoded data removed]",
      "text/plain": [
       "<Figure size 432x288 with 1 Axes>"
      ]
     },
     "metadata": {
      "needs_background": "light"
     },
     "output_type": "display_data"
    },
    {
     "name": "stdout",
     "output_type": "stream",
     "text": [
      "count    30.000000\n",
      "mean     12.922222\n",
      "std       0.923027\n",
      "min      11.000000\n",
      "25%      12.375000\n",
      "50%      13.000000\n",
      "75%      13.875000\n",
      "max      14.500000\n",
      "Name: h-Point, dtype: float64\n"
     ]
    },
    {
     "data": {
      "image/png": "[encoded data removed]",
      "text/plain": [
       "<Figure size 432x288 with 1 Axes>"
      ]
     },
     "metadata": {
      "needs_background": "light"
     },
     "output_type": "display_data"
    },
    {
     "name": "stdout",
     "output_type": "stream",
     "text": [
      "count    30.000000\n",
      "mean      8.038325\n",
      "std       0.093881\n",
      "min       7.830299\n",
      "25%       7.956827\n",
      "50%       8.051858\n",
      "75%       8.101523\n",
      "max       8.244432\n",
      "Name: Entropy, dtype: float64\n"
     ]
    },
    {
     "data": {
      "image/png": "[encoded data removed]",
      "text/plain": [
       "<Figure size 432x288 with 1 Axes>"
      ]
     },
     "metadata": {
      "needs_background": "light"
     },
     "output_type": "display_data"
    },
    {
     "name": "stdout",
     "output_type": "stream",
     "text": [
      "count    30.000000\n",
      "mean      4.906933\n",
      "std       0.158325\n",
      "min       4.596000\n",
      "25%       4.793750\n",
      "50%       4.923500\n",
      "75%       4.978750\n",
      "max       5.238000\n",
      "Name: Average Tokens Length, dtype: float64\n"
     ]
    },
    {
     "data": {
      "image/png": "[encoded data removed]",
      "text/plain": [
       "<Figure size 432x288 with 1 Axes>"
      ]
     },
     "metadata": {
      "needs_background": "light"
     },
     "output_type": "display_data"
    },
    {
     "name": "stdout",
     "output_type": "stream",
     "text": [
      "count    30.000000\n",
      "mean      0.821137\n",
      "std       0.010380\n",
      "min       0.803000\n",
      "25%       0.813031\n",
      "50%       0.821278\n",
      "75%       0.829531\n",
      "max       0.842500\n",
      "Name: R1, dtype: float64\n"
     ]
    },
    {
     "data": {
      "image/png": "[encoded data removed]",
      "text/plain": [
       "<Figure size 432x288 with 1 Axes>"
      ]
     },
     "metadata": {
      "needs_background": "light"
     },
     "output_type": "display_data"
    },
    {
     "name": "stdout",
     "output_type": "stream",
     "text": [
      "count    30.000000\n",
      "mean      1.532061\n",
      "std       0.075920\n",
      "min       1.352038\n",
      "25%       1.482029\n",
      "50%       1.538028\n",
      "75%       1.585850\n",
      "max       1.679643\n",
      "Name: Λ (Lambda), dtype: float64\n"
     ]
    },
    {
     "data": {
      "image/png": "[encoded data removed]",
      "text/plain": [
       "<Figure size 432x288 with 1 Axes>"
      ]
     },
     "metadata": {
      "needs_background": "light"
     },
     "output_type": "display_data"
    }
   ],
   "source": [
    "# 7\n",
    "# Make Histograms\n",
    "\n",
    "import seaborn as sns\n",
    "\n",
    "for temp in column_list:\n",
    "    part = res1[temp] \n",
    "    stats1 = part.describe()\n",
    "    print(stats1)\n",
    "    part1 = part/stats1.get('count')\n",
    "    \n",
    "\n",
    "    hist = part.hist(bins=16)\n",
    "    sns.kdeplot(part)\n",
    "    plt.show()"
   ]
  },
  {
   "cell_type": "code",
   "execution_count": 207,
   "id": "2e51020c",
   "metadata": {},
   "outputs": [
    {
     "name": "stdout",
     "output_type": "stream",
     "text": [
      "count    30.000000\n",
      "mean      0.489533\n",
      "std       0.024823\n",
      "min       0.432000\n",
      "25%       0.470000\n",
      "50%       0.491000\n",
      "75%       0.506500\n",
      "max       0.543000\n",
      "Name: TTR, dtype: float64\n",
      "\n",
      "skewness:\t -0.2537638844904512\n",
      "****left-skewed distribution (negatively skewed)****\n",
      "\n"
     ]
    },
    {
     "data": {
      "image/png": "[encoded data removed]",
      "text/plain": [
       "<Figure size 432x288 with 1 Axes>"
      ]
     },
     "metadata": {
      "needs_background": "light"
     },
     "output_type": "display_data"
    }
   ],
   "source": [
    "# Calculating the skewness for TTR.\n",
    "\n",
    "\n",
    "from scipy.stats import kurtosis, skew\n",
    "import seaborn as sns\n",
    "\n",
    "\n",
    "col = 'TTR'\n",
    "part1 = res1[col] \n",
    "\n",
    "res = part1.describe()\n",
    "print(res)\n",
    "part2 = 100*part1/res.get('count') \n",
    "\n",
    "skewness = skew(part2)\n",
    "print(\"\\nskewness:\\t\", skewness)\n",
    "\n",
    "if skewness < 0:\n",
    "    print(\"****left-skewed distribution (negatively skewed)****\\n\" )\n",
    "if skewness > 0:\n",
    "    print(\"****right-skewed distribution (positively skewed)****\\n\" )\n",
    "hist = part2.hist(bins=16)\n",
    "sns.kdeplot(part2)\n",
    "plt.show()"
   ]
  },
  {
   "cell_type": "code",
   "execution_count": 209,
   "id": "61de65b8",
   "metadata": {},
   "outputs": [
    {
     "name": "stdout",
     "output_type": "stream",
     "text": [
      "count    30.000000\n",
      "mean     12.922222\n",
      "std       0.923027\n",
      "min      11.000000\n",
      "25%      12.375000\n",
      "50%      13.000000\n",
      "75%      13.875000\n",
      "max      14.500000\n",
      "Name: h-Point, dtype: float64\n",
      "\n",
      "skewness:\t -0.11432434180650737\n",
      "****left-skewed distribution (negatively skewed)****\n",
      "\n"
     ]
    },
    {
     "data": {
      "image/png": "[encoded data removed]",
      "text/plain": [
       "<Figure size 432x288 with 1 Axes>"
      ]
     },
     "metadata": {
      "needs_background": "light"
     },
     "output_type": "display_data"
    }
   ],
   "source": [
    "# Calculating the skewness for h-Point.\n",
    "\n",
    "col = 'h-Point'\n",
    "part1 = res1[col] \n",
    "\n",
    "res = part1.describe()\n",
    "print(res)\n",
    "part2 = part1/res.get('count') \n",
    "\n",
    "skewness = skew(part2)\n",
    "print(\"\\nskewness:\\t\", skewness)\n",
    "\n",
    "if skewness < 0:\n",
    "    print(\"****left-skewed distribution (negatively skewed)****\\n\" )\n",
    "if skewness > 0:\n",
    "    print(\"****right-skewed distribution (positively skewed)****\\n\" )\n",
    "hist = part2.hist(bins=16)\n",
    "sns.kdeplot(part2)\n",
    "plt.show()"
   ]
  },
  {
   "cell_type": "code",
   "execution_count": 210,
   "id": "ec29921b",
   "metadata": {
    "scrolled": true
   },
   "outputs": [
    {
     "name": "stdout",
     "output_type": "stream",
     "text": [
      "count    30.000000\n",
      "mean      8.038325\n",
      "std       0.093881\n",
      "min       7.830299\n",
      "25%       7.956827\n",
      "50%       8.051858\n",
      "75%       8.101523\n",
      "max       8.244432\n",
      "Name: Entropy, dtype: float64\n",
      "\n",
      "skewness:\t -0.26136735493329927\n",
      "****left-skewed distribution (negatively skewed)****\n",
      "\n"
     ]
    },
    {
     "data": {
      "image/png": "[encoded data removed]",
      "text/plain": [
       "<Figure size 432x288 with 1 Axes>"
      ]
     },
     "metadata": {
      "needs_background": "light"
     },
     "output_type": "display_data"
    }
   ],
   "source": [
    "# Calculating the skewness for Entropy.\n",
    "\n",
    "col = 'Entropy'\n",
    "part1 = res1[col] \n",
    "\n",
    "res = part1.describe()\n",
    "print(res)\n",
    "part2 = 100*part1/res.get('count') \n",
    "\n",
    "skewness = skew(part2)\n",
    "print(\"\\nskewness:\\t\", skewness)\n",
    "\n",
    "if skewness < 0:\n",
    "    print(\"****left-skewed distribution (negatively skewed)****\\n\" )\n",
    "if skewness > 0:\n",
    "    print(\"****right-skewed distribution (positively skewed)****\\n\" )\n",
    "hist = part2.hist(bins=16)\n",
    "sns.kdeplot(part2)\n",
    "plt.show()"
   ]
  },
  {
   "cell_type": "code",
   "execution_count": 211,
   "id": "1645b163",
   "metadata": {
    "scrolled": true
   },
   "outputs": [
    {
     "name": "stdout",
     "output_type": "stream",
     "text": [
      "count    30.000000\n",
      "mean      4.906933\n",
      "std       0.158325\n",
      "min       4.596000\n",
      "25%       4.793750\n",
      "50%       4.923500\n",
      "75%       4.978750\n",
      "max       5.238000\n",
      "Name: Average Tokens Length, dtype: float64\n",
      "\n",
      "skewness:\t -0.00045543079109709766\n",
      "****left-skewed distribution (negatively skewed)****\n",
      "\n"
     ]
    },
    {
     "data": {
      "image/png": "[encoded data removed]",
      "text/plain": [
       "<Figure size 432x288 with 1 Axes>"
      ]
     },
     "metadata": {
      "needs_background": "light"
     },
     "output_type": "display_data"
    }
   ],
   "source": [
    "# Calculating the skewness  for Average Tokens Length.\n",
    "\n",
    "col = 'Average Tokens Length'\n",
    "part1 = res1[col] \n",
    "\n",
    "res = part1.describe()\n",
    "print(res)\n",
    "part2 = 100*part1/res.get('count') \n",
    "\n",
    "skewness = skew(part2)\n",
    "print(\"\\nskewness:\\t\", skewness)\n",
    "\n",
    "if skewness < 0:\n",
    "    print(\"****left-skewed distribution (negatively skewed)****\\n\" )\n",
    "if skewness > 0:\n",
    "    print(\"****right-skewed distribution (positively skewed)****\\n\" )\n",
    "hist = part2.hist(bins=16)\n",
    "sns.kdeplot(part2)\n",
    "plt.show()"
   ]
  },
  {
   "cell_type": "code",
   "execution_count": 212,
   "id": "6afe8fe1",
   "metadata": {},
   "outputs": [
    {
     "name": "stdout",
     "output_type": "stream",
     "text": [
      "count    30.000000\n",
      "mean      0.821137\n",
      "std       0.010380\n",
      "min       0.803000\n",
      "25%       0.813031\n",
      "50%       0.821278\n",
      "75%       0.829531\n",
      "max       0.842500\n",
      "Name: R1, dtype: float64\n",
      "\n",
      "skewness:\t 0.020635379099452334\n",
      "****right-skewed distribution (positively skewed)****\n",
      "\n"
     ]
    },
    {
     "data": {
      "image/png": "[encoded data removed]",
      "text/plain": [
       "<Figure size 432x288 with 1 Axes>"
      ]
     },
     "metadata": {
      "needs_background": "light"
     },
     "output_type": "display_data"
    }
   ],
   "source": [
    "# Calculating the skewness for R1.\n",
    "\n",
    "col = 'R1'\n",
    "part1 = res1[col] \n",
    "\n",
    "res = part1.describe()\n",
    "print(res)\n",
    "part2 = 100*part1/res.get('count') \n",
    "\n",
    "skewness = skew(part2)\n",
    "print(\"\\nskewness:\\t\", skewness)\n",
    "\n",
    "if skewness < 0:\n",
    "    print(\"****left-skewed distribution (negatively skewed)****\\n\" )\n",
    "if skewness > 0:\n",
    "    print(\"****right-skewed distribution (positively skewed)****\\n\" )\n",
    "hist = part2.hist(bins=16)\n",
    "sns.kdeplot(part2)\n",
    "plt.show()"
   ]
  },
  {
   "cell_type": "code",
   "execution_count": 215,
   "id": "59f8e29e",
   "metadata": {},
   "outputs": [
    {
     "name": "stdout",
     "output_type": "stream",
     "text": [
      "count    30.000000\n",
      "mean      1.532061\n",
      "std       0.075920\n",
      "min       1.352038\n",
      "25%       1.482029\n",
      "50%       1.538028\n",
      "75%       1.585850\n",
      "max       1.679643\n",
      "Name: Λ (Lambda), dtype: float64\n",
      "\n",
      "skewness:\t -0.4182039423281356\n",
      "****left-skewed distribution (negatively skewed)****\n",
      "\n"
     ]
    },
    {
     "data": {
      "image/png": "[encoded data removed]",
      "text/plain": [
       "<Figure size 432x288 with 1 Axes>"
      ]
     },
     "metadata": {
      "needs_background": "light"
     },
     "output_type": "display_data"
    }
   ],
   "source": [
    "# Calculating the skewness for Λ (Lambda).\n",
    "\n",
    "col = 'Λ (Lambda)'\n",
    "part1 = res1[col] \n",
    "\n",
    "res = part1.describe()\n",
    "print(res)\n",
    "part2 = 100*part1/res.get('count') \n",
    "\n",
    "skewness = skew(part2)\n",
    "print(\"\\nskewness:\\t\", skewness)\n",
    "\n",
    "if skewness < 0:\n",
    "    print(\"****left-skewed distribution (negatively skewed)****\\n\" )\n",
    "if skewness > 0:\n",
    "    print(\"****right-skewed distribution (positively skewed)****\\n\" )\n",
    "hist = part2.hist(bins=16)\n",
    "sns.kdeplot(part2)\n",
    "plt.show()"
   ]
  },
  {
   "cell_type": "code",
   "execution_count": null,
   "id": "507bcc05",
   "metadata": {},
   "outputs": [],
   "source": [
    "# 8\n",
    "# Commentary\n",
    "\n",
    "Στη συγκεκριμένη εργασία εξετάστηκαν οι δείκτες TTR (δείκτης που αναδεικνύει τον 'πλούτο' ενός κειμένου, με άλλα λόγια οι \n",
    "μαναδικές λέξεις), h-Point (ένα σημείο στην καμπύλη που η κατάταξη της λέξης είναι ίδια με τη συχνότητά της και χωρίζει το  \n",
    "λεξιλόγιο σε 2 κατηγορίες), Entropy (εκφράζει τη συγκέντρωση του λεξιλογίου σε ένα κέιμενο, δηλαδή όσο μικρότερη είναι η \n",
    "Εντροπία, τόσο περισσότερο συγκεντρωμένο είναι το λεξιλόγιο και τόσο μικρότερος είναι ο πλούτος του λεξιλογίου.), Average Tokens \n",
    "Length (δείχνει το μέσο όρο του μήκους των tokens), R1 (δείκτης του 'πλούτου' ενός κειμένου βάσει του h-Point, όλες εκείνες οι \n",
    "λέξεις που βρίσκονται κάτω από το h-Point) και Λ Lambda (ασχολείται με τη συχνότητα της δομής του κειμένου - και με τον 'πλούτο'\n",
    "και με τη συχνότητα γειτονικών συχνοτήτων). Προκειμένου να σχολιαστεί η κατανομή των τιμών για κάθε δείκτη, δημιουργήθηκαν \n",
    "ιστογράμματα με την αντίστοιχη συνάρτηση πυκνότητας πιθανότητας για τις τιμές κάθε δείκτη. Έτσι, παρατηρείται ότι οι καμπύλες \n",
    "συχνοτήτων δεν είναι συμμετρικές, αφού δεξιά και αριστερά του κατακόρυφου άξονα που περνάει από την κορυφή δε βρίσκεται το ίδιο \n",
    "ποσοστό παρατηρήσεων. Για αυτό το λόγο η κατανομή είναι ασύμμετρη. Ωστόσο, οι τιμές των δεικτών δεν παρουσιάζουν μεγάλη \n",
    "ασυμμετρία, αφού βρίσκονται μεταξύ - 0.5 και + 0.5, γεγονός που δηλώνει αρκετή συμμετρία (αν και υφίσταται ασσυμετρία). Πιό \n",
    "αναλυτικά, οι 5 από τους 6 δείκτες παρουσιάζουν αρνητική ασυμμετρία, διότι οι περισσότερες παρατηρήσεις - δεδομένα βρίσκονται \n",
    "αριστερά της κορυφής, σε αντίθεση με τον δείκτη 'R1' που παρουσιάζει θετική ασυμμετρία, για τον λόγο ότι οι περισσότερες \n",
    "παρατηρήσεις βρίσκονται δεξιά της κορυφής.\n",
    "\n"
   ]
  }
 ],
 "metadata": {
  "kernelspec": {
   "display_name": "Python 3 (ipykernel)",
   "language": "python",
   "name": "python3"
  },
  "language_info": {
   "codemirror_mode": {
    "name": "ipython",
    "version": 3
   },
   "file_extension": ".py",
   "mimetype": "text/x-python",
   "name": "python",
   "nbconvert_exporter": "python",
   "pygments_lexer": "ipython3",
   "version": "3.8.2rc2"
  }
 },
 "nbformat": 4,
 "nbformat_minor": 5
}
